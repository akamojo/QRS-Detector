{
  "nbformat": 4,
  "nbformat_minor": 0,
  "metadata": {
    "colab": {
      "name": "TransferLearn.ipynb",
      "version": "0.3.2",
      "provenance": [],
      "collapsed_sections": [],
      "include_colab_link": true
    },
    "language_info": {
      "codemirror_mode": {
        "name": "ipython",
        "version": 3
      },
      "file_extension": ".py",
      "mimetype": "text/x-python",
      "name": "python",
      "nbconvert_exporter": "python",
      "pygments_lexer": "ipython3",
      "version": "3.7.0"
    },
    "kernelspec": {
      "name": "python3",
      "display_name": "Python 3"
    },
    "accelerator": "GPU"
  },
  "cells": [
    {
      "cell_type": "markdown",
      "metadata": {
        "id": "view-in-github",
        "colab_type": "text"
      },
      "source": [
        "<a href=\"https://colab.research.google.com/github/akamojo/QRS-Detector/blob/master/TransferLearn.ipynb\" target=\"_parent\"><img src=\"https://colab.research.google.com/assets/colab-badge.svg\" alt=\"Open In Colab\"/></a>"
      ]
    },
    {
      "cell_type": "markdown",
      "metadata": {
        "id": "bt9VlR3x5Lvr",
        "colab_type": "text"
      },
      "source": [
        "# Second assignment part 1\n",
        "\n",
        "**Student**: António Coelho - MAEBD - 54575 <br>\n",
        "**Student**: Urszula Barbara Walińska - MIEI - 56556 <br>\n",
        "**Teacher**: Rui Rodrigues <br>\n",
        "**Course**: Aprendizagem com dados não estruturados <br>\n",
        "**Date of delivery**: 07/06/2019\n",
        "\n",
        "The objetive of this work is to: \n",
        "  1.  Train a neuralnetwork model on the MNIST dataset (digits).\n",
        "  2.  Use the same mode to recognize handwritten letters.\n",
        "  3.  Compare the results of using transfer learning with learning all the weights from scratch on the training set."
      ]
    },
    {
      "cell_type": "code",
      "metadata": {
        "id": "XBDH2lxM5Lvt",
        "colab_type": "code",
        "colab": {}
      },
      "source": [
        "from numpy import genfromtxt\n",
        "import tensorflow as tf\n",
        "import numpy as np\n",
        "from datetime import datetime\n",
        "from matplotlib import pyplot as plt\n",
        "from tensorflow import keras\n",
        "from tensorflow.keras.optimizers import SGD\n",
        "from tensorflow.keras.models import Sequential, Model\n",
        "from tensorflow.keras.layers import BatchNormalization,Conv2D,MaxPooling2D\n",
        "from tensorflow.keras.layers import Activation, Flatten, Dropout, Dense, Input\n",
        "from sklearn.decomposition import PCA\n",
        "from tensorflow.keras.layers import LeakyReLU\n",
        "from sklearn.model_selection import StratifiedKFold"
      ],
      "execution_count": 0,
      "outputs": []
    },
    {
      "cell_type": "markdown",
      "metadata": {
        "id": "FZgsGnhZ1ZXM",
        "colab_type": "text"
      },
      "source": [
        "# 1. Training a neuralnetwork model on the MNIST dataset (digits)"
      ]
    },
    {
      "cell_type": "code",
      "metadata": {
        "id": "NaD0-hhG5Lvz",
        "colab_type": "code",
        "outputId": "c0bc8841-34d7-46c6-964b-4f5d24f53037",
        "colab": {
          "base_uri": "https://localhost:8080/",
          "height": 419
        }
      },
      "source": [
        "# load data (X sets are images and Y sets are the true classes of the examples)\n",
        "# it is already divided into train set and test set \n",
        "\n",
        "# evaluating result of learning on test set after each epoch\n",
        "# will help us to prevent from overfitting\n",
        "\n",
        "((trainX, trainY), (testX, testY)) = keras.datasets.mnist.load_data()\n",
        "\n",
        "trainX = trainX.reshape((trainX.shape[0], 28, 28, 1))\n",
        "testX = testX.reshape((testX.shape[0], 28, 28, 1))\n",
        "trainX = trainX.astype(\"float32\") / 255.0\n",
        "testX = testX.astype(\"float32\") / 255.0\n",
        "\n",
        "# transforming the labels into a proper representation for learning\n",
        "trainY = keras.utils.to_categorical(trainY, 10)\n",
        "testY = keras.utils.to_categorical(testY, 10)\n",
        "\n",
        "inputs = Input(shape=(28,28,1),name='inputs')\n",
        "\n",
        "# Convolutional Layer with 32 filters, kernel of size (3,3), \n",
        "# \"same\" padding which results in the output with the same length as the original input, \n",
        "layer = Conv2D(32, (3, 3), padding=\"same\", input_shape=(28,28,1))(inputs)\n",
        "layer = Activation(\"relu\")(layer)\n",
        "\n",
        "# Batch Normalization to force each layer to readjust mean and standard deviation after each iteration\n",
        "layer = BatchNormalization(axis=-1)(layer)\n",
        "layer = Conv2D(32, (3, 3), padding=\"same\")(layer)\n",
        "layer = Activation(\"relu\")(layer)\n",
        "layer = BatchNormalization(axis=-1)(layer)\n",
        "\n",
        "# MaxPooling of size (2,2) to aggregate the outputs in a single output for each region\n",
        "layer = MaxPooling2D(pool_size=(2, 2))(layer)\n",
        "\n",
        "# Dropout with the probability of 0.25 for regularization -> some neurons are dropped randomly\n",
        "layer = Dropout(0.25)(layer)\n",
        "layer = Conv2D(64, (3, 3), padding=\"same\")(layer)\n",
        "layer = Activation(\"relu\")(layer)\n",
        "layer = BatchNormalization(axis=-1)(layer)\n",
        "layer = Conv2D(64, (3, 3), padding=\"same\")(layer)\n",
        "layer = Activation(\"relu\")(layer)\n",
        "layer = BatchNormalization(axis=-1)(layer)\n",
        "layer = MaxPooling2D(pool_size=(2, 2))(layer)\n",
        "layer = Dropout(0.25)(layer)\n",
        "\n",
        "features = Flatten(name='features')(layer)\n",
        "layer = Dense(512)(features)\n",
        "layer = Activation(\"relu\")(layer)\n",
        "layer = BatchNormalization()(layer)\n",
        "layer = Dropout(0.5)(layer)\n",
        "layer = Dense(10)(layer)\n",
        "layer = Activation(\"softmax\")(layer)\n",
        "old_model = Model(inputs = inputs, outputs = layer)\n",
        "\n",
        "INIT_LR = 0.01\n",
        "NUM_EPOCHS = 5\n",
        "BS = 10\n",
        "\n",
        "opt = SGD(lr=INIT_LR, momentum=0.9, decay=INIT_LR / NUM_EPOCHS)\n",
        "old_model.compile(loss=\"categorical_crossentropy\", optimizer=opt, metrics=[\"accuracy\"])\n",
        "\n",
        "old_model.fit(trainX, trainY, validation_data=(testX, testY), batch_size=BS, epochs=NUM_EPOCHS)\n",
        "old_model.save_weights('digits_model.h5')"
      ],
      "execution_count": 0,
      "outputs": [
        {
          "output_type": "stream",
          "text": [
            "Downloading data from https://storage.googleapis.com/tensorflow/tf-keras-datasets/mnist.npz\n",
            "11493376/11490434 [==============================] - 0s 0us/step\n",
            "WARNING:tensorflow:From /usr/local/lib/python3.6/dist-packages/tensorflow/python/ops/resource_variable_ops.py:435: colocate_with (from tensorflow.python.framework.ops) is deprecated and will be removed in a future version.\n",
            "Instructions for updating:\n",
            "Colocations handled automatically by placer.\n",
            "WARNING:tensorflow:From /usr/local/lib/python3.6/dist-packages/tensorflow/python/keras/layers/core.py:143: calling dropout (from tensorflow.python.ops.nn_ops) with keep_prob is deprecated and will be removed in a future version.\n",
            "Instructions for updating:\n",
            "Please use `rate` instead of `keep_prob`. Rate should be set to `rate = 1 - keep_prob`.\n",
            "Train on 60000 samples, validate on 10000 samples\n",
            "WARNING:tensorflow:From /usr/local/lib/python3.6/dist-packages/tensorflow/python/ops/math_ops.py:3066: to_int32 (from tensorflow.python.ops.math_ops) is deprecated and will be removed in a future version.\n",
            "Instructions for updating:\n",
            "Use tf.cast instead.\n",
            "Epoch 1/5\n",
            "60000/60000 [==============================] - 47s 786us/sample - loss: 0.2351 - acc: 0.9333 - val_loss: 0.0418 - val_acc: 0.9863\n",
            "Epoch 2/5\n",
            "60000/60000 [==============================] - 42s 706us/sample - loss: 0.1234 - acc: 0.9636 - val_loss: 0.0366 - val_acc: 0.9882\n",
            "Epoch 3/5\n",
            "60000/60000 [==============================] - 41s 686us/sample - loss: 0.1056 - acc: 0.9678 - val_loss: 0.0337 - val_acc: 0.9883\n",
            "Epoch 4/5\n",
            "60000/60000 [==============================] - 43s 712us/sample - loss: 0.1030 - acc: 0.9690 - val_loss: 0.0322 - val_acc: 0.9892\n",
            "Epoch 5/5\n",
            "60000/60000 [==============================] - 41s 678us/sample - loss: 0.0951 - acc: 0.9719 - val_loss: 0.0315 - val_acc: 0.9890\n"
          ],
          "name": "stdout"
        }
      ]
    },
    {
      "cell_type": "markdown",
      "metadata": {
        "id": "uY-GLcy81jVd",
        "colab_type": "text"
      },
      "source": [
        "In the code above we download MNIST dataset, then preprocess our data to be able to use them in the training and evaluation of results.<br><br>\n",
        "\n",
        "Then we create Neural Network model using Keras Functional API. We use several Convolutional Layers to be able to extract from the pictures of digits relevant features that will be useful later, in classification.<br>\n",
        "To prevent from overfitting we use also Dropout layers. To prevent from vanishing gradients problem we use ReLU activation function. <br>\n",
        "In the end we attach to our convolutional network the dense part, which consists of several Dense layers and BatchNormalization and Dropout.<br>\n",
        "Of course the output layer consists of 10 neurons and softmax activation function to be able to perform the classification of 10 digits.<br><br>\n",
        "\n",
        "As a loss function in our model we use categorical cross-entropy. We use also customized Stochastic Gradient Descent as optimizer (with weight decay to prevent from problems with convergence). The metric that allows us to evaluate the results of our solution is accuracy.<br>\n",
        "After 5 epochs it reaches 99% on validation dataset.<br><br>\n",
        "\n",
        "At the end we save the weights of our model to be able to use them in the process of Transfer Learning."
      ]
    },
    {
      "cell_type": "markdown",
      "metadata": {
        "id": "b8RxYpJu472M",
        "colab_type": "text"
      },
      "source": [
        "# 2. Using the same mode to recognize handwritten letters"
      ]
    },
    {
      "cell_type": "markdown",
      "metadata": {
        "id": "YZTkUACg5Bz9",
        "colab_type": "text"
      },
      "source": [
        "We can take advantage from the model trained and saved before in the similar multi classification problem. This process is called Transfer Learning. It is used when 2 different tasks share relevant factors. In this case we will use the previous model build for classifying digits to classify letters.<br><br>\n",
        "\n",
        "First, we download our data using HTTP request."
      ]
    },
    {
      "cell_type": "code",
      "metadata": {
        "id": "rhGF-OVyIvbq",
        "colab_type": "code",
        "colab": {}
      },
      "source": [
        "from io import BytesIO\n",
        "from urllib.request import urlopen\n",
        "\n",
        "resp = urlopen(\"https://docentes.fct.unl.pt/rapr/files/transferlearningdata.zip\")\n",
        "data = np.load(BytesIO(resp.read()))"
      ],
      "execution_count": 0,
      "outputs": []
    },
    {
      "cell_type": "code",
      "metadata": {
        "id": "uFLzncvcOgDH",
        "colab_type": "code",
        "colab": {}
      },
      "source": [
        "trainX = data['imagesLettersTrain.npy']\n",
        "trainY = data['labelsTrain.npy']\n",
        "testX = data['imagesLettersTest.npy']\n",
        "testY = data['labelsTest.npy']"
      ],
      "execution_count": 0,
      "outputs": []
    },
    {
      "cell_type": "code",
      "metadata": {
        "id": "91bocXNmPE3i",
        "colab_type": "code",
        "outputId": "dbbbdb4e-37a4-48b7-f5c5-fee60ba552f2",
        "colab": {
          "base_uri": "https://localhost:8080/",
          "height": 287
        }
      },
      "source": [
        "from matplotlib import pyplot as plt\n",
        "\n",
        "plt.imshow(testX[90].reshape(28, 28),cmap='Greys')"
      ],
      "execution_count": 0,
      "outputs": [
        {
          "output_type": "execute_result",
          "data": {
            "text/plain": [
              "<matplotlib.image.AxesImage at 0x7ffa5180fe80>"
            ]
          },
          "metadata": {
            "tags": []
          },
          "execution_count": 6
        },
        {
          "output_type": "display_data",
          "data": {
            "image/png": "[encoded data removed]",
            "text/plain": [
              "<Figure size 432x288 with 1 Axes>"
            ]
          },
          "metadata": {
            "tags": []
          }
        }
      ]
    },
    {
      "cell_type": "markdown",
      "metadata": {
        "id": "b63Oe0B45LFq",
        "colab_type": "text"
      },
      "source": [
        "Exemplary letter that we are going to classify."
      ]
    },
    {
      "cell_type": "code",
      "metadata": {
        "id": "J7NSbTICRR73",
        "colab_type": "code",
        "colab": {}
      },
      "source": [
        "# data preprocessing as before\n",
        "\n",
        "trainX = trainX.reshape((trainX.shape[0], 28, 28, 1))\n",
        "testX = testX.reshape((testX.shape[0], 28, 28, 1))\n",
        "\n",
        "trainX = trainX.astype(\"float32\") / 255.0\n",
        "testX = testX.astype(\"float32\") / 255.0\n",
        "\n",
        "trainY = keras.utils.to_categorical(trainY.astype(\"int\"), 26)\n",
        "testY = keras.utils.to_categorical(testY.astype(\"int\"), 26)"
      ],
      "execution_count": 0,
      "outputs": []
    },
    {
      "cell_type": "code",
      "metadata": {
        "id": "B8cqINCR5Lv6",
        "colab_type": "code",
        "outputId": "8e3768eb-4c89-4d81-8bd6-06ac17febe4f",
        "colab": {
          "base_uri": "https://localhost:8080/",
          "height": 1736
        }
      },
      "source": [
        "old_model.compile(optimizer=SGD(), loss='mse')\n",
        "\n",
        "# using weights from previous task\n",
        "old_model.load_weights('digits_model.h5')\n",
        "\n",
        "# prevent the layers from previous model from training\n",
        "for layer in old_model.layers:\n",
        "    layer.trainable = False\n",
        "\n",
        "# attaching new dense network to the previous convolution network\n",
        "layer = Dense(512)(old_model.get_layer('features').output)\n",
        "layer = Activation(\"relu\")(layer)\n",
        "layer = BatchNormalization()(layer)\n",
        "layer = Dropout(0.5)(layer)\n",
        "layer = Dense(26)(layer)\n",
        "layer = Activation(\"softmax\")(layer)\n",
        "model = Model(inputs = old_model.get_layer('inputs').output, outputs = layer)\n",
        "\n",
        "INIT_LR = 0.01\n",
        "NUM_EPOCHS = 20\n",
        "BS = 50\n",
        "\n",
        "opt = SGD(lr=INIT_LR, momentum=0.9, decay=INIT_LR / NUM_EPOCHS)\n",
        "model.compile(loss=\"categorical_crossentropy\", optimizer=opt, metrics=[\"accuracy\"])\n",
        "model.summary()\n",
        "\n",
        "# using the obtained model to fit into new data\n",
        "H = model.fit(trainX, trainY, batch_size=BS, epochs=NUM_EPOCHS)"
      ],
      "execution_count": 0,
      "outputs": [
        {
          "output_type": "stream",
          "text": [
            "WARNING:tensorflow:From /usr/local/lib/python3.6/dist-packages/tensorflow/python/keras/utils/losses_utils.py:170: to_float (from tensorflow.python.ops.math_ops) is deprecated and will be removed in a future version.\n",
            "Instructions for updating:\n",
            "Use tf.cast instead.\n",
            "_________________________________________________________________\n",
            "Layer (type)                 Output Shape              Param #   \n",
            "=================================================================\n",
            "inputs (InputLayer)          (None, 28, 28, 1)         0         \n",
            "_________________________________________________________________\n",
            "conv2d (Conv2D)              (None, 28, 28, 32)        320       \n",
            "_________________________________________________________________\n",
            "activation (Activation)      (None, 28, 28, 32)        0         \n",
            "_________________________________________________________________\n",
            "batch_normalization_v1 (Batc (None, 28, 28, 32)        128       \n",
            "_________________________________________________________________\n",
            "conv2d_1 (Conv2D)            (None, 28, 28, 32)        9248      \n",
            "_________________________________________________________________\n",
            "activation_1 (Activation)    (None, 28, 28, 32)        0         \n",
            "_________________________________________________________________\n",
            "batch_normalization_v1_1 (Ba (None, 28, 28, 32)        128       \n",
            "_________________________________________________________________\n",
            "max_pooling2d (MaxPooling2D) (None, 14, 14, 32)        0         \n",
            "_________________________________________________________________\n",
            "dropout (Dropout)            (None, 14, 14, 32)        0         \n",
            "_________________________________________________________________\n",
            "conv2d_2 (Conv2D)            (None, 14, 14, 64)        18496     \n",
            "_________________________________________________________________\n",
            "activation_2 (Activation)    (None, 14, 14, 64)        0         \n",
            "_________________________________________________________________\n",
            "batch_normalization_v1_2 (Ba (None, 14, 14, 64)        256       \n",
            "_________________________________________________________________\n",
            "conv2d_3 (Conv2D)            (None, 14, 14, 64)        36928     \n",
            "_________________________________________________________________\n",
            "activation_3 (Activation)    (None, 14, 14, 64)        0         \n",
            "_________________________________________________________________\n",
            "batch_normalization_v1_3 (Ba (None, 14, 14, 64)        256       \n",
            "_________________________________________________________________\n",
            "max_pooling2d_1 (MaxPooling2 (None, 7, 7, 64)          0         \n",
            "_________________________________________________________________\n",
            "dropout_1 (Dropout)          (None, 7, 7, 64)          0         \n",
            "_________________________________________________________________\n",
            "features (Flatten)           (None, 3136)              0         \n",
            "_________________________________________________________________\n",
            "dense_2 (Dense)              (None, 512)               1606144   \n",
            "_________________________________________________________________\n",
            "activation_6 (Activation)    (None, 512)               0         \n",
            "_________________________________________________________________\n",
            "batch_normalization_v1_5 (Ba (None, 512)               2048      \n",
            "_________________________________________________________________\n",
            "dropout_3 (Dropout)          (None, 512)               0         \n",
            "_________________________________________________________________\n",
            "dense_3 (Dense)              (None, 26)                13338     \n",
            "_________________________________________________________________\n",
            "activation_7 (Activation)    (None, 26)                0         \n",
            "=================================================================\n",
            "Total params: 1,687,290\n",
            "Trainable params: 1,620,506\n",
            "Non-trainable params: 66,784\n",
            "_________________________________________________________________\n",
            "Epoch 1/20\n",
            "520/520 [==============================] - 0s 622us/sample - loss: 3.4037 - acc: 0.2462\n",
            "Epoch 2/20\n",
            "520/520 [==============================] - 0s 105us/sample - loss: 0.9883 - acc: 0.7154\n",
            "Epoch 3/20\n",
            "520/520 [==============================] - 0s 107us/sample - loss: 0.6392 - acc: 0.7808\n",
            "Epoch 4/20\n",
            "520/520 [==============================] - 0s 107us/sample - loss: 0.4787 - acc: 0.8308\n",
            "Epoch 5/20\n",
            "520/520 [==============================] - 0s 101us/sample - loss: 0.3726 - acc: 0.8808\n",
            "Epoch 6/20\n",
            "520/520 [==============================] - 0s 100us/sample - loss: 0.2789 - acc: 0.9096\n",
            "Epoch 7/20\n",
            "520/520 [==============================] - 0s 98us/sample - loss: 0.2797 - acc: 0.8942\n",
            "Epoch 8/20\n",
            "520/520 [==============================] - 0s 98us/sample - loss: 0.2516 - acc: 0.9250\n",
            "Epoch 9/20\n",
            "520/520 [==============================] - 0s 99us/sample - loss: 0.2336 - acc: 0.9173\n",
            "Epoch 10/20\n",
            "520/520 [==============================] - 0s 118us/sample - loss: 0.1454 - acc: 0.9538\n",
            "Epoch 11/20\n",
            "520/520 [==============================] - 0s 104us/sample - loss: 0.1362 - acc: 0.9577\n",
            "Epoch 12/20\n",
            "520/520 [==============================] - 0s 97us/sample - loss: 0.1377 - acc: 0.9596\n",
            "Epoch 13/20\n",
            "520/520 [==============================] - 0s 97us/sample - loss: 0.1405 - acc: 0.9615\n",
            "Epoch 14/20\n",
            "520/520 [==============================] - 0s 98us/sample - loss: 0.1126 - acc: 0.9712\n",
            "Epoch 15/20\n",
            "520/520 [==============================] - 0s 95us/sample - loss: 0.1114 - acc: 0.9731\n",
            "Epoch 16/20\n",
            "520/520 [==============================] - 0s 103us/sample - loss: 0.1221 - acc: 0.9635\n",
            "Epoch 17/20\n",
            "520/520 [==============================] - 0s 96us/sample - loss: 0.1170 - acc: 0.9692\n",
            "Epoch 18/20\n",
            "520/520 [==============================] - 0s 99us/sample - loss: 0.0971 - acc: 0.9673\n",
            "Epoch 19/20\n",
            "520/520 [==============================] - 0s 100us/sample - loss: 0.0735 - acc: 0.9788\n",
            "Epoch 20/20\n",
            "520/520 [==============================] - 0s 97us/sample - loss: 0.0894 - acc: 0.9731\n"
          ],
          "name": "stdout"
        }
      ]
    },
    {
      "cell_type": "code",
      "metadata": {
        "id": "8D7ELqLV5LwA",
        "colab_type": "code",
        "outputId": "d6e0a929-6a3d-485c-830e-e2c37c5fca98",
        "colab": {
          "base_uri": "https://localhost:8080/",
          "height": 35
        }
      },
      "source": [
        "scores = model.evaluate(testX, testY, batch_size=BS)"
      ],
      "execution_count": 0,
      "outputs": [
        {
          "output_type": "stream",
          "text": [
            "103080/103080 [==============================] - 5s 49us/sample - loss: 0.9138 - acc: 0.7673\n"
          ],
          "name": "stdout"
        }
      ]
    },
    {
      "cell_type": "markdown",
      "metadata": {
        "id": "TMq_CVuh7Q7K",
        "colab_type": "text"
      },
      "source": [
        "As we can see, we managed to reduce slightly the number of trainable parameters by using model built for the previous problem. Moreover we managed to achieve the accuracy on test set equal 77%."
      ]
    },
    {
      "cell_type": "markdown",
      "metadata": {
        "id": "b0zDRhFn7jw4",
        "colab_type": "text"
      },
      "source": [
        "# 3. Comparison of the results using transfer learning with learning all the weights from scratch on the training dataset (letters)"
      ]
    },
    {
      "cell_type": "code",
      "metadata": {
        "id": "iBCMS3jPaGCJ",
        "colab_type": "code",
        "outputId": "6c0ca170-a304-4a56-e813-900daad417a1",
        "colab": {
          "base_uri": "https://localhost:8080/",
          "height": 728
        }
      },
      "source": [
        "inputs = Input(shape=(28,28,1),name='inputs')\n",
        "layer = Conv2D(32, (3, 3), padding=\"same\", input_shape=(28,28,1))(inputs)\n",
        "layer = Activation(\"relu\")(layer)\n",
        "layer = BatchNormalization(axis=-1)(layer)\n",
        "layer = Conv2D(32, (3, 3), padding=\"same\")(layer)\n",
        "layer = Activation(\"relu\")(layer)\n",
        "layer = BatchNormalization(axis=-1)(layer)\n",
        "layer = MaxPooling2D(pool_size=(2, 2))(layer)\n",
        "layer = Dropout(0.25)(layer)\n",
        "layer = Conv2D(64, (3, 3), padding=\"same\")(layer)\n",
        "layer = Activation(\"relu\")(layer)\n",
        "layer = BatchNormalization(axis=-1)(layer)\n",
        "layer = Conv2D(64, (3, 3), padding=\"same\")(layer)\n",
        "layer = Activation(\"relu\")(layer)\n",
        "layer = BatchNormalization(axis=-1)(layer)\n",
        "layer = MaxPooling2D(pool_size=(2, 2))(layer)\n",
        "layer = Dropout(0.25)(layer)\n",
        "\n",
        "features = Flatten(name='features')(layer)\n",
        "layer = Dense(512)(features)\n",
        "layer = Activation(\"relu\")(layer)\n",
        "layer = BatchNormalization()(layer)\n",
        "layer = Dropout(0.5)(layer)\n",
        "layer = Dense(26)(layer)\n",
        "layer = Activation(\"softmax\")(layer)\n",
        "new_model = Model(inputs = inputs, outputs = layer)\n",
        "\n",
        "INIT_LR = 0.01\n",
        "NUM_EPOCHS = 20\n",
        "BS = 10\n",
        "\n",
        "opt = SGD(lr=INIT_LR, momentum=0.9, decay=INIT_LR / NUM_EPOCHS)\n",
        "new_model.compile(loss=\"categorical_crossentropy\", optimizer=opt, metrics=[\"accuracy\"])\n",
        "\n",
        "new_model.fit(trainX, trainY, batch_size=BS, epochs=NUM_EPOCHS)"
      ],
      "execution_count": 0,
      "outputs": [
        {
          "output_type": "stream",
          "text": [
            "Epoch 1/20\n",
            "520/520 [==============================] - 1s 2ms/sample - loss: 3.3122 - acc: 0.2538\n",
            "Epoch 2/20\n",
            "520/520 [==============================] - 0s 667us/sample - loss: 2.2457 - acc: 0.4519\n",
            "Epoch 3/20\n",
            "520/520 [==============================] - 0s 665us/sample - loss: 1.8519 - acc: 0.5192\n",
            "Epoch 4/20\n",
            "520/520 [==============================] - 0s 680us/sample - loss: 1.4620 - acc: 0.5885\n",
            "Epoch 5/20\n",
            "520/520 [==============================] - 0s 665us/sample - loss: 1.2929 - acc: 0.6365\n",
            "Epoch 6/20\n",
            "520/520 [==============================] - 0s 669us/sample - loss: 1.2164 - acc: 0.6788\n",
            "Epoch 7/20\n",
            "520/520 [==============================] - 0s 676us/sample - loss: 1.0616 - acc: 0.6827\n",
            "Epoch 8/20\n",
            "520/520 [==============================] - 0s 662us/sample - loss: 0.9819 - acc: 0.7269\n",
            "Epoch 9/20\n",
            "520/520 [==============================] - 0s 659us/sample - loss: 0.7665 - acc: 0.7462\n",
            "Epoch 10/20\n",
            "520/520 [==============================] - 0s 681us/sample - loss: 0.6426 - acc: 0.7981\n",
            "Epoch 11/20\n",
            "520/520 [==============================] - 0s 665us/sample - loss: 0.6445 - acc: 0.8019\n",
            "Epoch 12/20\n",
            "520/520 [==============================] - 0s 679us/sample - loss: 0.5605 - acc: 0.8365\n",
            "Epoch 13/20\n",
            "520/520 [==============================] - 0s 668us/sample - loss: 0.6008 - acc: 0.8269\n",
            "Epoch 14/20\n",
            "520/520 [==============================] - 0s 655us/sample - loss: 0.5486 - acc: 0.8269\n",
            "Epoch 15/20\n",
            "520/520 [==============================] - 0s 662us/sample - loss: 0.5342 - acc: 0.8231\n",
            "Epoch 16/20\n",
            "520/520 [==============================] - 0s 657us/sample - loss: 0.4759 - acc: 0.8442\n",
            "Epoch 17/20\n",
            "520/520 [==============================] - 0s 647us/sample - loss: 0.4874 - acc: 0.8462\n",
            "Epoch 18/20\n",
            "520/520 [==============================] - 0s 668us/sample - loss: 0.3940 - acc: 0.8577\n",
            "Epoch 19/20\n",
            "520/520 [==============================] - 0s 655us/sample - loss: 0.3672 - acc: 0.8923\n",
            "Epoch 20/20\n",
            "520/520 [==============================] - 0s 653us/sample - loss: 0.4227 - acc: 0.8788\n"
          ],
          "name": "stdout"
        },
        {
          "output_type": "execute_result",
          "data": {
            "text/plain": [
              "<tensorflow.python.keras.callbacks.History at 0x7ffa151765c0>"
            ]
          },
          "metadata": {
            "tags": []
          },
          "execution_count": 10
        }
      ]
    },
    {
      "cell_type": "code",
      "metadata": {
        "id": "VeRS6H7jalh9",
        "colab_type": "code",
        "outputId": "e85d62e8-52f1-46fe-a017-459cd7a569fa",
        "colab": {
          "base_uri": "https://localhost:8080/",
          "height": 35
        }
      },
      "source": [
        "scores = new_model.evaluate(testX, testY, batch_size=BS)"
      ],
      "execution_count": 0,
      "outputs": [
        {
          "output_type": "stream",
          "text": [
            "103080/103080 [==============================] - 23s 225us/sample - loss: 1.7395 - acc: 0.6421\n"
          ],
          "name": "stdout"
        }
      ]
    },
    {
      "cell_type": "markdown",
      "metadata": {
        "id": "VEwi_S7x74Vx",
        "colab_type": "text"
      },
      "source": [
        "As we can see, taking advantage from the previously trained model (for digits classification) resulted in higher accuracy result (77%) than learning all the weights from scratch on letters training dataset (64%). It is caused by the fact that given letters training (and validation) set was very small (520 examples for 26 letters, upper and lower case). On the other hand, a large test set of letters was provided. The convolutional network from model trained by learning weights from scratch did not manage to extract relevant features from data. Using the combination of already trained convolutional network (when the problem of classification is simillar) and new dense part of the network for this purpose gives us new opportunities and enables us to achieve satisfying results."
      ]
    }
  ]
}