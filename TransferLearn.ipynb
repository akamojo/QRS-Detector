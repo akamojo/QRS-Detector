{
  "nbformat": 4,
  "nbformat_minor": 0,
  "metadata": {
    "colab": {
      "name": "TransferLearn.ipynb",
      "version": "0.3.2",
      "provenance": [],
      "collapsed_sections": [],
      "include_colab_link": true
    },
    "language_info": {
      "codemirror_mode": {
        "name": "ipython",
        "version": 3
      },
      "file_extension": ".py",
      "mimetype": "text/x-python",
      "name": "python",
      "nbconvert_exporter": "python",
      "pygments_lexer": "ipython3",
      "version": "3.7.0"
    },
    "kernelspec": {
      "name": "python3",
      "display_name": "Python 3"
    },
    "accelerator": "GPU"
  },
  "cells": [
    {
      "cell_type": "markdown",
      "metadata": {
        "id": "view-in-github",
        "colab_type": "text"
      },
      "source": [
        "<a href=\"https://colab.research.google.com/github/akamojo/QRS-Detector/blob/master/TransferLearn.ipynb\" target=\"_parent\"><img src=\"https://colab.research.google.com/assets/colab-badge.svg\" alt=\"Open In Colab\"/></a>"
      ]
    },
    {
      "cell_type": "markdown",
      "metadata": {
        "id": "bt9VlR3x5Lvr",
        "colab_type": "text"
      },
      "source": [
        "# Second assignment part 1\n",
        "\n",
        "**Student**: António Coelho - MAEBD - 54575 <br>\n",
        "**Student**: Urszula Barbara Walińska - MIEI - 56556 <br>\n",
        "**Teacher**: Rui Rodrigues <br>\n",
        "**Course**: Aprendizagem com dados não estruturados <br>\n",
        "**Date of delivery**: 07/06/2019\n",
        "\n",
        "The objetive of this work is to: \n",
        "  1.  Train a neuralnetwork model on the MNIST dataset (digits).\n",
        "  2.  Use the same mode to recognize handwritten letters.\n",
        "  3.  Compare the results of using transfer learning with learning all the weights from scratch on the training set."
      ]
    },
    {
      "cell_type": "code",
      "metadata": {
        "id": "XBDH2lxM5Lvt",
        "colab_type": "code",
        "colab": {}
      },
      "source": [
        "from numpy import genfromtxt\n",
        "import tensorflow as tf\n",
        "import numpy as np\n",
        "from datetime import datetime\n",
        "from matplotlib import pyplot as plt\n",
        "from tensorflow import keras\n",
        "from tensorflow.keras.optimizers import SGD\n",
        "from tensorflow.keras.models import Sequential, Model\n",
        "from tensorflow.keras.layers import BatchNormalization,Conv2D,MaxPooling2D\n",
        "from tensorflow.keras.layers import Activation, Flatten, Dropout, Dense, Input\n",
        "from sklearn.decomposition import PCA\n",
        "from tensorflow.keras.layers import LeakyReLU\n",
        "from sklearn.model_selection import StratifiedKFold"
      ],
      "execution_count": 0,
      "outputs": []
    },
    {
      "cell_type": "markdown",
      "metadata": {
        "id": "FZgsGnhZ1ZXM",
        "colab_type": "text"
      },
      "source": [
        "# 1. Training a neuralnetwork model on the MNIST dataset (digits)"
      ]
    },
    {
      "cell_type": "code",
      "metadata": {
        "id": "NaD0-hhG5Lvz",
        "colab_type": "code",
        "outputId": "2421ceca-b41f-4871-dde5-6a933ac6b845",
        "colab": {
          "base_uri": "https://localhost:8080/",
          "height": 419
        }
      },
      "source": [
        "# load data (X sets are images and Y sets are the true classes of the examples)\n",
        "# it is already divided into train set and test set \n",
        "\n",
        "# evaluating result of learning on test set after each epoch\n",
        "# will help us to prevent from overfitting\n",
        "\n",
        "((trainX, trainY), (testX, testY)) = keras.datasets.mnist.load_data()\n",
        "\n",
        "trainX = trainX.reshape((trainX.shape[0], 28, 28, 1))\n",
        "testX = testX.reshape((testX.shape[0], 28, 28, 1))\n",
        "trainX = trainX.astype(\"float32\") / 255.0\n",
        "testX = testX.astype(\"float32\") / 255.0\n",
        "\n",
        "# transforming the labels into a proper representation for learning\n",
        "trainY = keras.utils.to_categorical(trainY, 10)\n",
        "testY = keras.utils.to_categorical(testY, 10)\n",
        "\n",
        "inputs = Input(shape=(28,28,1),name='inputs')\n",
        "\n",
        "# Convolutional Layer with 32 filters, kernel of size (3,3), \n",
        "# \"same\" padding which results in the output with the same length as the original input, \n",
        "layer = Conv2D(32, (3, 3), padding=\"same\", input_shape=(28,28,1))(inputs)\n",
        "layer = Activation(\"relu\")(layer)\n",
        "\n",
        "# Batch Normalization to force each layer to readjust mean and standard deviation after each iteration\n",
        "layer = BatchNormalization(axis=-1)(layer)\n",
        "layer = Conv2D(32, (3, 3), padding=\"same\")(layer)\n",
        "layer = Activation(\"relu\")(layer)\n",
        "layer = BatchNormalization(axis=-1)(layer)\n",
        "\n",
        "# MaxPooling of size (2,2) to aggregate the outputs in a single output for each region\n",
        "layer = MaxPooling2D(pool_size=(2, 2))(layer)\n",
        "\n",
        "# Dropout with the probability of 0.25 for regularization -> some neurons are dropped randomly\n",
        "layer = Dropout(0.25)(layer)\n",
        "layer = Conv2D(64, (3, 3), padding=\"same\")(layer)\n",
        "layer = Activation(\"relu\")(layer)\n",
        "layer = BatchNormalization(axis=-1)(layer)\n",
        "\n",
        "layer = Conv2D(64, (3, 3), padding=\"same\")(layer)\n",
        "layer = Activation(\"relu\")(layer)\n",
        "layer = BatchNormalization(axis=-1)(layer)\n",
        "layer = MaxPooling2D(pool_size=(2, 2))(layer)\n",
        "layer = Dropout(0.25)(layer)\n",
        "\n",
        "features = Flatten(name='features')(layer)\n",
        "layer = Dense(512)(features)\n",
        "layer = Activation(\"relu\")(layer)\n",
        "layer = BatchNormalization()(layer)\n",
        "layer = Dropout(0.5)(layer)\n",
        "\n",
        "layer = Dense(10)(layer)\n",
        "layer = Activation(\"softmax\")(layer)\n",
        "old_model = Model(inputs = inputs, outputs = layer)\n",
        "\n",
        "INIT_LR = 0.01\n",
        "NUM_EPOCHS = 5\n",
        "BS = 10\n",
        "\n",
        "opt = SGD(lr=INIT_LR, momentum=0.9, decay=INIT_LR / NUM_EPOCHS)\n",
        "old_model.compile(loss=\"categorical_crossentropy\", optimizer=opt, metrics=[\"accuracy\"])\n",
        "\n",
        "old_model.fit(trainX, trainY, validation_data=(testX, testY), batch_size=BS, epochs=NUM_EPOCHS)\n",
        "old_model.save_weights('digits_model.h5')"
      ],
      "execution_count": 0,
      "outputs": [
        {
          "output_type": "stream",
          "text": [
            "Downloading data from https://storage.googleapis.com/tensorflow/tf-keras-datasets/mnist.npz\n",
            "11493376/11490434 [==============================] - 0s 0us/step\n",
            "WARNING:tensorflow:From /usr/local/lib/python3.6/dist-packages/tensorflow/python/ops/resource_variable_ops.py:435: colocate_with (from tensorflow.python.framework.ops) is deprecated and will be removed in a future version.\n",
            "Instructions for updating:\n",
            "Colocations handled automatically by placer.\n",
            "WARNING:tensorflow:From /usr/local/lib/python3.6/dist-packages/tensorflow/python/keras/layers/core.py:143: calling dropout (from tensorflow.python.ops.nn_ops) with keep_prob is deprecated and will be removed in a future version.\n",
            "Instructions for updating:\n",
            "Please use `rate` instead of `keep_prob`. Rate should be set to `rate = 1 - keep_prob`.\n",
            "Train on 60000 samples, validate on 10000 samples\n",
            "WARNING:tensorflow:From /usr/local/lib/python3.6/dist-packages/tensorflow/python/ops/math_ops.py:3066: to_int32 (from tensorflow.python.ops.math_ops) is deprecated and will be removed in a future version.\n",
            "Instructions for updating:\n",
            "Use tf.cast instead.\n",
            "Epoch 1/5\n",
            "60000/60000 [==============================] - 47s 778us/sample - loss: 0.2404 - acc: 0.9320 - val_loss: 0.0436 - val_acc: 0.9861\n",
            "Epoch 2/5\n",
            "60000/60000 [==============================] - 42s 702us/sample - loss: 0.1240 - acc: 0.9625 - val_loss: 0.0372 - val_acc: 0.9867\n",
            "Epoch 3/5\n",
            "60000/60000 [==============================] - 45s 752us/sample - loss: 0.1087 - acc: 0.9668 - val_loss: 0.0346 - val_acc: 0.9891\n",
            "Epoch 4/5\n",
            "60000/60000 [==============================] - 42s 706us/sample - loss: 0.0998 - acc: 0.9706 - val_loss: 0.0312 - val_acc: 0.9896\n",
            "Epoch 5/5\n",
            "60000/60000 [==============================] - 42s 695us/sample - loss: 0.0965 - acc: 0.9707 - val_loss: 0.0305 - val_acc: 0.9900\n"
          ],
          "name": "stdout"
        }
      ]
    },
    {
      "cell_type": "markdown",
      "metadata": {
        "id": "uY-GLcy81jVd",
        "colab_type": "text"
      },
      "source": [
        "In the code above we download MNIST dataset, then preprocess our data to be able to use them in the training and evaluation of results.<br><br>\n",
        "\n",
        "Then we create Neural Network model using Keras Functional API. We use several Convolutional Layers to be able to extract from the pictures of digits relevant features that will be useful later, in classification.<br>\n",
        "To prevent from overfitting we use also Dropout layers. To prevent from vanishing gradients problem we use ReLU activation function. <br>\n",
        "In the end we attach to our convolutional network the dense part, which consists of several Dense layers and BatchNormalization and Dropout.<br>\n",
        "Of course the output layer consists of 10 neurons and softmax activation function to be able to perform the classification of 10 digits.<br><br>\n",
        "\n",
        "As a loss function in our model we use categorical cross-entropy. We use also customized Stochastic Gradient Descent as optimizer (with weight decay to prevent from problems with convergence). The metric that allows us to evaluate the results of our solution is accuracy.<br>\n",
        "After 5 epochs it reaches 99% on validation dataset.<br><br>\n",
        "\n",
        "At the end we save the weights of our model to be able to use them in the process of Transfer Learning."
      ]
    },
    {
      "cell_type": "markdown",
      "metadata": {
        "id": "b8RxYpJu472M",
        "colab_type": "text"
      },
      "source": [
        "# 2. Using the same mode to recognize handwritten letters"
      ]
    },
    {
      "cell_type": "markdown",
      "metadata": {
        "id": "YZTkUACg5Bz9",
        "colab_type": "text"
      },
      "source": [
        "We can take advantage from the model trained and saved before in the similar multi classification problem. This process is called Transfer Learning. It is used when 2 different tasks share relevant factors. In this case we will use the previous model build for classifying digits to classify letters.<br><br>\n",
        "\n",
        "First, we download our data using HTTP request."
      ]
    },
    {
      "cell_type": "code",
      "metadata": {
        "id": "rhGF-OVyIvbq",
        "colab_type": "code",
        "colab": {}
      },
      "source": [
        "from io import BytesIO\n",
        "from urllib.request import urlopen\n",
        "\n",
        "resp = urlopen(\"https://docentes.fct.unl.pt/rapr/files/transferlearningdata.zip\")\n",
        "data = np.load(BytesIO(resp.read()))"
      ],
      "execution_count": 0,
      "outputs": []
    },
    {
      "cell_type": "code",
      "metadata": {
        "id": "uFLzncvcOgDH",
        "colab_type": "code",
        "colab": {}
      },
      "source": [
        "trainX = data['imagesLettersTrain.npy']\n",
        "trainY = data['labelsTrain.npy']\n",
        "testX = data['imagesLettersTest.npy']\n",
        "testY = data['labelsTest.npy']"
      ],
      "execution_count": 0,
      "outputs": []
    },
    {
      "cell_type": "code",
      "metadata": {
        "id": "91bocXNmPE3i",
        "colab_type": "code",
        "outputId": "0d086ec9-36d9-4ea7-ca41-3fa15d37294a",
        "colab": {
          "base_uri": "https://localhost:8080/",
          "height": 287
        }
      },
      "source": [
        "from matplotlib import pyplot as plt\n",
        "\n",
        "plt.imshow(testX[90].reshape(28, 28),cmap='Greys')"
      ],
      "execution_count": 0,
      "outputs": [
        {
          "output_type": "execute_result",
          "data": {
            "text/plain": [
              "<matplotlib.image.AxesImage at 0x7f0eec5baf28>"
            ]
          },
          "metadata": {
            "tags": []
          },
          "execution_count": 5
        },
        {
          "output_type": "display_data",
          "data": {
            "image/png": "[encoded data removed]",
            "text/plain": [
              "<Figure size 432x288 with 1 Axes>"
            ]
          },
          "metadata": {
            "tags": []
          }
        }
      ]
    },
    {
      "cell_type": "markdown",
      "metadata": {
        "id": "b63Oe0B45LFq",
        "colab_type": "text"
      },
      "source": [
        "Exemplary letter that we are going to classify."
      ]
    },
    {
      "cell_type": "code",
      "metadata": {
        "id": "J7NSbTICRR73",
        "colab_type": "code",
        "colab": {}
      },
      "source": [
        "# data preprocessing as before\n",
        "\n",
        "trainX = trainX.reshape((trainX.shape[0], 28, 28, 1))\n",
        "testX = testX.reshape((testX.shape[0], 28, 28, 1))\n",
        "\n",
        "trainX = trainX.astype(\"float32\") / 255.0\n",
        "testX = testX.astype(\"float32\") / 255.0\n",
        "\n",
        "trainY = keras.utils.to_categorical(trainY.astype(\"int\"), 26)\n",
        "testY = keras.utils.to_categorical(testY.astype(\"int\"), 26)"
      ],
      "execution_count": 0,
      "outputs": []
    },
    {
      "cell_type": "code",
      "metadata": {
        "id": "Ev3tYxgcxJIX",
        "colab_type": "code",
        "colab": {}
      },
      "source": [
        "validX = trainX[500:, :, :, :]\n",
        "validY = trainY[500:, :]\n",
        "\n",
        "trainX = trainX[:500, :, :, :]\n",
        "trainY = trainY[:500:, :]"
      ],
      "execution_count": 0,
      "outputs": []
    },
    {
      "cell_type": "code",
      "metadata": {
        "id": "B8cqINCR5Lv6",
        "colab_type": "code",
        "outputId": "74f5ae20-c752-4f4f-8302-e0ad3f098c06",
        "colab": {
          "base_uri": "https://localhost:8080/",
          "height": 2028
        }
      },
      "source": [
        "old_model.compile(optimizer=SGD(), loss='mse')\n",
        "\n",
        "# using weights from previous task\n",
        "old_model.load_weights('digits_model.h5')\n",
        "\n",
        "# prevent the layers from previous model from training\n",
        "for layer in old_model.layers:\n",
        "    layer.trainable = False\n",
        "\n",
        "# attaching new dense network to the previous convolution network\n",
        "layer = Dense(512)(old_model.get_layer('features').output)\n",
        "layer = Activation(\"relu\")(layer)\n",
        "layer = BatchNormalization()(layer)\n",
        "layer = Dropout(0.5)(layer)\n",
        "\n",
        "layer = Dense(26)(layer)\n",
        "layer = Activation(\"softmax\")(layer)\n",
        "model = Model(inputs = old_model.get_layer('inputs').output, outputs = layer)\n",
        "\n",
        "INIT_LR = 0.01\n",
        "NUM_EPOCHS = 30\n",
        "BS = 50\n",
        "\n",
        "opt = SGD(lr=INIT_LR, momentum=0.9, decay=INIT_LR / NUM_EPOCHS)\n",
        "model.compile(loss=\"categorical_crossentropy\", optimizer=opt, metrics=[\"accuracy\"])\n",
        "model.summary()\n",
        "\n",
        "# using the obtained model to fit into new data\n",
        "H = model.fit(trainX, trainY, validation_data=(validX, validY), batch_size=BS, epochs=NUM_EPOCHS)"
      ],
      "execution_count": 0,
      "outputs": [
        {
          "output_type": "stream",
          "text": [
            "_________________________________________________________________\n",
            "Layer (type)                 Output Shape              Param #   \n",
            "=================================================================\n",
            "inputs (InputLayer)          (None, 28, 28, 1)         0         \n",
            "_________________________________________________________________\n",
            "conv2d (Conv2D)              (None, 28, 28, 32)        320       \n",
            "_________________________________________________________________\n",
            "activation (Activation)      (None, 28, 28, 32)        0         \n",
            "_________________________________________________________________\n",
            "batch_normalization_v1 (Batc (None, 28, 28, 32)        128       \n",
            "_________________________________________________________________\n",
            "conv2d_1 (Conv2D)            (None, 28, 28, 32)        9248      \n",
            "_________________________________________________________________\n",
            "activation_1 (Activation)    (None, 28, 28, 32)        0         \n",
            "_________________________________________________________________\n",
            "batch_normalization_v1_1 (Ba (None, 28, 28, 32)        128       \n",
            "_________________________________________________________________\n",
            "max_pooling2d (MaxPooling2D) (None, 14, 14, 32)        0         \n",
            "_________________________________________________________________\n",
            "dropout (Dropout)            (None, 14, 14, 32)        0         \n",
            "_________________________________________________________________\n",
            "conv2d_2 (Conv2D)            (None, 14, 14, 64)        18496     \n",
            "_________________________________________________________________\n",
            "activation_2 (Activation)    (None, 14, 14, 64)        0         \n",
            "_________________________________________________________________\n",
            "batch_normalization_v1_2 (Ba (None, 14, 14, 64)        256       \n",
            "_________________________________________________________________\n",
            "conv2d_3 (Conv2D)            (None, 14, 14, 64)        36928     \n",
            "_________________________________________________________________\n",
            "activation_3 (Activation)    (None, 14, 14, 64)        0         \n",
            "_________________________________________________________________\n",
            "batch_normalization_v1_3 (Ba (None, 14, 14, 64)        256       \n",
            "_________________________________________________________________\n",
            "max_pooling2d_1 (MaxPooling2 (None, 7, 7, 64)          0         \n",
            "_________________________________________________________________\n",
            "dropout_1 (Dropout)          (None, 7, 7, 64)          0         \n",
            "_________________________________________________________________\n",
            "features (Flatten)           (None, 3136)              0         \n",
            "_________________________________________________________________\n",
            "dense_16 (Dense)             (None, 512)               1606144   \n",
            "_________________________________________________________________\n",
            "activation_28 (Activation)   (None, 512)               0         \n",
            "_________________________________________________________________\n",
            "batch_normalization_v1_20 (B (None, 512)               2048      \n",
            "_________________________________________________________________\n",
            "dropout_14 (Dropout)         (None, 512)               0         \n",
            "_________________________________________________________________\n",
            "dense_17 (Dense)             (None, 26)                13338     \n",
            "_________________________________________________________________\n",
            "activation_29 (Activation)   (None, 26)                0         \n",
            "=================================================================\n",
            "Total params: 1,687,290\n",
            "Trainable params: 1,620,506\n",
            "Non-trainable params: 66,784\n",
            "_________________________________________________________________\n",
            "Train on 500 samples, validate on 20 samples\n",
            "Epoch 1/30\n",
            "500/500 [==============================] - 1s 1ms/sample - loss: 3.4635 - acc: 0.2040 - val_loss: 5.2224 - val_acc: 0.0000e+00\n",
            "Epoch 2/30\n",
            "500/500 [==============================] - 0s 118us/sample - loss: 0.9675 - acc: 0.6960 - val_loss: 6.9431 - val_acc: 0.0000e+00\n",
            "Epoch 3/30\n",
            "500/500 [==============================] - 0s 118us/sample - loss: 0.6269 - acc: 0.8140 - val_loss: 7.0185 - val_acc: 0.0000e+00\n",
            "Epoch 4/30\n",
            "500/500 [==============================] - 0s 113us/sample - loss: 0.5483 - acc: 0.8320 - val_loss: 6.8117 - val_acc: 0.0000e+00\n",
            "Epoch 5/30\n",
            "500/500 [==============================] - 0s 115us/sample - loss: 0.3577 - acc: 0.8800 - val_loss: 6.8038 - val_acc: 0.0000e+00\n",
            "Epoch 6/30\n",
            "500/500 [==============================] - 0s 109us/sample - loss: 0.3449 - acc: 0.8960 - val_loss: 6.9303 - val_acc: 0.0000e+00\n",
            "Epoch 7/30\n",
            "500/500 [==============================] - 0s 107us/sample - loss: 0.2672 - acc: 0.9060 - val_loss: 6.9174 - val_acc: 0.0000e+00\n",
            "Epoch 8/30\n",
            "500/500 [==============================] - 0s 116us/sample - loss: 0.2364 - acc: 0.9180 - val_loss: 6.8812 - val_acc: 0.0000e+00\n",
            "Epoch 9/30\n",
            "500/500 [==============================] - 0s 108us/sample - loss: 0.1682 - acc: 0.9560 - val_loss: 7.2385 - val_acc: 0.0000e+00\n",
            "Epoch 10/30\n",
            "500/500 [==============================] - 0s 104us/sample - loss: 0.1880 - acc: 0.9460 - val_loss: 7.2076 - val_acc: 0.0000e+00\n",
            "Epoch 11/30\n",
            "500/500 [==============================] - 0s 107us/sample - loss: 0.1575 - acc: 0.9600 - val_loss: 7.1279 - val_acc: 0.0000e+00\n",
            "Epoch 12/30\n",
            "500/500 [==============================] - 0s 108us/sample - loss: 0.2019 - acc: 0.9420 - val_loss: 7.1286 - val_acc: 0.0000e+00\n",
            "Epoch 13/30\n",
            "500/500 [==============================] - 0s 113us/sample - loss: 0.1412 - acc: 0.9480 - val_loss: 7.2468 - val_acc: 0.0000e+00\n",
            "Epoch 14/30\n",
            "500/500 [==============================] - 0s 106us/sample - loss: 0.1320 - acc: 0.9580 - val_loss: 7.2631 - val_acc: 0.0000e+00\n",
            "Epoch 15/30\n",
            "500/500 [==============================] - 0s 106us/sample - loss: 0.1165 - acc: 0.9640 - val_loss: 7.2270 - val_acc: 0.0000e+00\n",
            "Epoch 16/30\n",
            "500/500 [==============================] - 0s 120us/sample - loss: 0.1047 - acc: 0.9680 - val_loss: 7.2693 - val_acc: 0.0000e+00\n",
            "Epoch 17/30\n",
            "500/500 [==============================] - 0s 119us/sample - loss: 0.1216 - acc: 0.9680 - val_loss: 7.3354 - val_acc: 0.0000e+00\n",
            "Epoch 18/30\n",
            "500/500 [==============================] - 0s 110us/sample - loss: 0.0757 - acc: 0.9760 - val_loss: 7.2927 - val_acc: 0.0000e+00\n",
            "Epoch 19/30\n",
            "500/500 [==============================] - 0s 115us/sample - loss: 0.0874 - acc: 0.9760 - val_loss: 7.2305 - val_acc: 0.0000e+00\n",
            "Epoch 20/30\n",
            "500/500 [==============================] - 0s 109us/sample - loss: 0.0952 - acc: 0.9680 - val_loss: 7.3553 - val_acc: 0.0000e+00\n",
            "Epoch 21/30\n",
            "500/500 [==============================] - 0s 118us/sample - loss: 0.0979 - acc: 0.9660 - val_loss: 7.4403 - val_acc: 0.0000e+00\n",
            "Epoch 22/30\n",
            "500/500 [==============================] - 0s 106us/sample - loss: 0.0788 - acc: 0.9800 - val_loss: 7.5243 - val_acc: 0.0000e+00\n",
            "Epoch 23/30\n",
            "500/500 [==============================] - 0s 112us/sample - loss: 0.0741 - acc: 0.9840 - val_loss: 7.5569 - val_acc: 0.0000e+00\n",
            "Epoch 24/30\n",
            "500/500 [==============================] - 0s 103us/sample - loss: 0.0766 - acc: 0.9740 - val_loss: 7.5129 - val_acc: 0.0000e+00\n",
            "Epoch 25/30\n",
            "500/500 [==============================] - 0s 104us/sample - loss: 0.0843 - acc: 0.9780 - val_loss: 7.5707 - val_acc: 0.0000e+00\n",
            "Epoch 26/30\n",
            "500/500 [==============================] - 0s 108us/sample - loss: 0.0643 - acc: 0.9860 - val_loss: 7.6837 - val_acc: 0.0000e+00\n",
            "Epoch 27/30\n",
            "500/500 [==============================] - 0s 109us/sample - loss: 0.0665 - acc: 0.9780 - val_loss: 7.7249 - val_acc: 0.0000e+00\n",
            "Epoch 28/30\n",
            "500/500 [==============================] - 0s 110us/sample - loss: 0.0729 - acc: 0.9800 - val_loss: 7.6985 - val_acc: 0.0000e+00\n",
            "Epoch 29/30\n",
            "500/500 [==============================] - 0s 106us/sample - loss: 0.0654 - acc: 0.9820 - val_loss: 7.6440 - val_acc: 0.0000e+00\n",
            "Epoch 30/30\n",
            "500/500 [==============================] - 0s 108us/sample - loss: 0.0645 - acc: 0.9820 - val_loss: 7.6292 - val_acc: 0.0000e+00\n"
          ],
          "name": "stdout"
        }
      ]
    },
    {
      "cell_type": "code",
      "metadata": {
        "id": "8D7ELqLV5LwA",
        "colab_type": "code",
        "outputId": "5ad5a27f-be9e-4daa-88af-766ac79f03a8",
        "colab": {
          "base_uri": "https://localhost:8080/",
          "height": 35
        }
      },
      "source": [
        "scores = model.evaluate(testX, testY, batch_size=BS)"
      ],
      "execution_count": 0,
      "outputs": [
        {
          "output_type": "stream",
          "text": [
            "103080/103080 [==============================] - 6s 58us/sample - loss: 1.0772 - acc: 0.7494\n"
          ],
          "name": "stdout"
        }
      ]
    },
    {
      "cell_type": "markdown",
      "metadata": {
        "id": "TMq_CVuh7Q7K",
        "colab_type": "text"
      },
      "source": [
        "As we can see, we managed to reduce slightly the number of trainable parameters by using model built for the previous problem. Moreover we managed to achieve the accuracy on test set equal 75%."
      ]
    },
    {
      "cell_type": "markdown",
      "metadata": {
        "id": "b0zDRhFn7jw4",
        "colab_type": "text"
      },
      "source": [
        "# 3. Comparison of the results using transfer learning with learning all the weights from scratch on the training dataset (letters)"
      ]
    },
    {
      "cell_type": "code",
      "metadata": {
        "id": "iBCMS3jPaGCJ",
        "colab_type": "code",
        "outputId": "904a6daf-2a87-4f82-c5db-18392bfc9fa5",
        "colab": {
          "base_uri": "https://localhost:8080/",
          "height": 1805
        }
      },
      "source": [
        "inputs = Input(shape=(28,28,1),name='inputs')\n",
        "\n",
        "layer = Conv2D(32, (3, 3), padding=\"same\", input_shape=(28,28,1))(inputs)\n",
        "layer = Activation(\"relu\")(layer)\n",
        "layer = BatchNormalization(axis=-1)(layer)\n",
        "\n",
        "layer = Conv2D(32, (3, 3), padding=\"same\")(layer)\n",
        "layer = Activation(\"relu\")(layer)\n",
        "layer = BatchNormalization(axis=-1)(layer)\n",
        "layer = MaxPooling2D(pool_size=(2, 2))(layer)\n",
        "layer = Dropout(0.25)(layer)\n",
        "\n",
        "layer = Conv2D(64, (3, 3), padding=\"same\")(layer)\n",
        "layer = Activation(\"relu\")(layer)\n",
        "layer = BatchNormalization(axis=-1)(layer)\n",
        "\n",
        "layer = Conv2D(64, (3, 3), padding=\"same\")(layer)\n",
        "layer = Activation(\"relu\")(layer)\n",
        "layer = BatchNormalization(axis=-1)(layer)\n",
        "layer = MaxPooling2D(pool_size=(2, 2))(layer)\n",
        "layer = Dropout(0.25)(layer)\n",
        "\n",
        "features = Flatten(name='features')(layer)\n",
        "layer = Dense(512)(features)\n",
        "layer = Activation(\"relu\")(layer)\n",
        "layer = BatchNormalization()(layer)\n",
        "layer = Dropout(0.5)(layer)\n",
        "\n",
        "layer = Dense(26)(layer)\n",
        "layer = Activation(\"softmax\")(layer)\n",
        "new_model = Model(inputs = inputs, outputs = layer)\n",
        "\n",
        "INIT_LR = 0.01\n",
        "NUM_EPOCHS = 50\n",
        "BS = 10\n",
        "\n",
        "opt = SGD(lr=INIT_LR, momentum=0.9, decay=INIT_LR / NUM_EPOCHS)\n",
        "new_model.compile(loss=\"categorical_crossentropy\", optimizer=opt, metrics=[\"accuracy\"])\n",
        "\n",
        "new_model.fit(trainX, trainY, validation_data=(validX, validY), batch_size=BS, epochs=NUM_EPOCHS)"
      ],
      "execution_count": 0,
      "outputs": [
        {
          "output_type": "stream",
          "text": [
            "Train on 500 samples, validate on 20 samples\n",
            "Epoch 1/50\n",
            "500/500 [==============================] - 1s 2ms/sample - loss: 3.4308 - acc: 0.2320 - val_loss: 16.1181 - val_acc: 0.0000e+00\n",
            "Epoch 2/50\n",
            "500/500 [==============================] - 0s 739us/sample - loss: 2.1024 - acc: 0.4520 - val_loss: 15.8102 - val_acc: 0.0000e+00\n",
            "Epoch 3/50\n",
            "500/500 [==============================] - 0s 757us/sample - loss: 1.9766 - acc: 0.5020 - val_loss: 14.1724 - val_acc: 0.0000e+00\n",
            "Epoch 4/50\n",
            "500/500 [==============================] - 0s 727us/sample - loss: 1.8301 - acc: 0.5400 - val_loss: 11.4418 - val_acc: 0.0000e+00\n",
            "Epoch 5/50\n",
            "500/500 [==============================] - 0s 727us/sample - loss: 1.5038 - acc: 0.5840 - val_loss: 7.5621 - val_acc: 0.0000e+00\n",
            "Epoch 6/50\n",
            "500/500 [==============================] - 0s 741us/sample - loss: 1.3520 - acc: 0.6440 - val_loss: 10.2171 - val_acc: 0.0000e+00\n",
            "Epoch 7/50\n",
            "500/500 [==============================] - 0s 715us/sample - loss: 1.1648 - acc: 0.6700 - val_loss: 9.1383 - val_acc: 0.0000e+00\n",
            "Epoch 8/50\n",
            "500/500 [==============================] - 0s 723us/sample - loss: 1.0290 - acc: 0.7080 - val_loss: 11.3871 - val_acc: 0.0000e+00\n",
            "Epoch 9/50\n",
            "500/500 [==============================] - 0s 751us/sample - loss: 1.0542 - acc: 0.7000 - val_loss: 8.5931 - val_acc: 0.0000e+00\n",
            "Epoch 10/50\n",
            "500/500 [==============================] - 0s 727us/sample - loss: 0.9636 - acc: 0.7260 - val_loss: 7.2052 - val_acc: 0.0000e+00\n",
            "Epoch 11/50\n",
            "500/500 [==============================] - 0s 744us/sample - loss: 0.7218 - acc: 0.7440 - val_loss: 8.7051 - val_acc: 0.0000e+00\n",
            "Epoch 12/50\n",
            "500/500 [==============================] - 0s 754us/sample - loss: 0.6575 - acc: 0.7900 - val_loss: 10.5988 - val_acc: 0.0000e+00\n",
            "Epoch 13/50\n",
            "500/500 [==============================] - 0s 709us/sample - loss: 0.6767 - acc: 0.7900 - val_loss: 9.3262 - val_acc: 0.0000e+00\n",
            "Epoch 14/50\n",
            "500/500 [==============================] - 0s 744us/sample - loss: 0.6651 - acc: 0.7920 - val_loss: 9.5741 - val_acc: 0.0000e+00\n",
            "Epoch 15/50\n",
            "500/500 [==============================] - 0s 704us/sample - loss: 0.5351 - acc: 0.8220 - val_loss: 8.9135 - val_acc: 0.0000e+00\n",
            "Epoch 16/50\n",
            "500/500 [==============================] - 0s 730us/sample - loss: 0.5399 - acc: 0.8220 - val_loss: 9.8641 - val_acc: 0.0000e+00\n",
            "Epoch 17/50\n",
            "500/500 [==============================] - 0s 720us/sample - loss: 0.4117 - acc: 0.8720 - val_loss: 10.2816 - val_acc: 0.0000e+00\n",
            "Epoch 18/50\n",
            "500/500 [==============================] - 0s 716us/sample - loss: 0.4613 - acc: 0.8580 - val_loss: 10.2511 - val_acc: 0.0000e+00\n",
            "Epoch 19/50\n",
            "500/500 [==============================] - 0s 700us/sample - loss: 0.4268 - acc: 0.8820 - val_loss: 10.5162 - val_acc: 0.0000e+00\n",
            "Epoch 20/50\n",
            "500/500 [==============================] - 0s 722us/sample - loss: 0.3498 - acc: 0.8820 - val_loss: 10.5073 - val_acc: 0.0000e+00\n",
            "Epoch 21/50\n",
            "500/500 [==============================] - 0s 704us/sample - loss: 0.4190 - acc: 0.8600 - val_loss: 9.5934 - val_acc: 0.0000e+00\n",
            "Epoch 22/50\n",
            "500/500 [==============================] - 0s 696us/sample - loss: 0.3877 - acc: 0.8660 - val_loss: 10.1787 - val_acc: 0.0000e+00\n",
            "Epoch 23/50\n",
            "500/500 [==============================] - 0s 719us/sample - loss: 0.3583 - acc: 0.8800 - val_loss: 10.6091 - val_acc: 0.0000e+00\n",
            "Epoch 24/50\n",
            "500/500 [==============================] - 0s 694us/sample - loss: 0.2163 - acc: 0.9300 - val_loss: 9.7804 - val_acc: 0.0000e+00\n",
            "Epoch 25/50\n",
            "500/500 [==============================] - 0s 719us/sample - loss: 0.2410 - acc: 0.9060 - val_loss: 10.2466 - val_acc: 0.0000e+00\n",
            "Epoch 26/50\n",
            "500/500 [==============================] - 0s 723us/sample - loss: 0.3038 - acc: 0.8900 - val_loss: 10.8277 - val_acc: 0.0000e+00\n",
            "Epoch 27/50\n",
            "500/500 [==============================] - 0s 707us/sample - loss: 0.3311 - acc: 0.9080 - val_loss: 11.0224 - val_acc: 0.0000e+00\n",
            "Epoch 28/50\n",
            "500/500 [==============================] - 0s 718us/sample - loss: 0.2759 - acc: 0.9060 - val_loss: 10.5699 - val_acc: 0.0000e+00\n",
            "Epoch 29/50\n",
            "500/500 [==============================] - 0s 722us/sample - loss: 0.2582 - acc: 0.9120 - val_loss: 10.3079 - val_acc: 0.0000e+00\n",
            "Epoch 30/50\n",
            "500/500 [==============================] - 0s 694us/sample - loss: 0.1674 - acc: 0.9420 - val_loss: 10.6374 - val_acc: 0.0000e+00\n",
            "Epoch 31/50\n",
            "500/500 [==============================] - 0s 705us/sample - loss: 0.1773 - acc: 0.9500 - val_loss: 10.7573 - val_acc: 0.0000e+00\n",
            "Epoch 32/50\n",
            "500/500 [==============================] - 0s 718us/sample - loss: 0.1883 - acc: 0.9400 - val_loss: 10.8779 - val_acc: 0.0000e+00\n",
            "Epoch 33/50\n",
            "500/500 [==============================] - 0s 700us/sample - loss: 0.2050 - acc: 0.9320 - val_loss: 10.0577 - val_acc: 0.0000e+00\n",
            "Epoch 34/50\n",
            "500/500 [==============================] - 0s 725us/sample - loss: 0.1654 - acc: 0.9320 - val_loss: 10.4005 - val_acc: 0.0000e+00\n",
            "Epoch 35/50\n",
            "500/500 [==============================] - 0s 689us/sample - loss: 0.1731 - acc: 0.9480 - val_loss: 10.6941 - val_acc: 0.0000e+00\n",
            "Epoch 36/50\n",
            "500/500 [==============================] - 0s 691us/sample - loss: 0.1815 - acc: 0.9340 - val_loss: 11.0900 - val_acc: 0.0000e+00\n",
            "Epoch 37/50\n",
            "500/500 [==============================] - 0s 715us/sample - loss: 0.1941 - acc: 0.9280 - val_loss: 10.8007 - val_acc: 0.0000e+00\n",
            "Epoch 38/50\n",
            "500/500 [==============================] - 0s 699us/sample - loss: 0.1989 - acc: 0.9340 - val_loss: 10.3775 - val_acc: 0.0000e+00\n",
            "Epoch 39/50\n",
            "500/500 [==============================] - 0s 697us/sample - loss: 0.1447 - acc: 0.9520 - val_loss: 11.1913 - val_acc: 0.0000e+00\n",
            "Epoch 40/50\n",
            "500/500 [==============================] - 0s 706us/sample - loss: 0.1390 - acc: 0.9500 - val_loss: 10.4908 - val_acc: 0.0000e+00\n",
            "Epoch 41/50\n",
            "500/500 [==============================] - 0s 697us/sample - loss: 0.1535 - acc: 0.9440 - val_loss: 10.9097 - val_acc: 0.0000e+00\n",
            "Epoch 42/50\n",
            "500/500 [==============================] - 0s 696us/sample - loss: 0.1764 - acc: 0.9340 - val_loss: 10.7749 - val_acc: 0.0000e+00\n",
            "Epoch 43/50\n",
            "500/500 [==============================] - 0s 717us/sample - loss: 0.1194 - acc: 0.9660 - val_loss: 11.7553 - val_acc: 0.0000e+00\n",
            "Epoch 44/50\n",
            "500/500 [==============================] - 0s 756us/sample - loss: 0.1284 - acc: 0.9540 - val_loss: 12.2215 - val_acc: 0.0000e+00\n",
            "Epoch 45/50\n",
            "500/500 [==============================] - 0s 769us/sample - loss: 0.1173 - acc: 0.9680 - val_loss: 12.0636 - val_acc: 0.0000e+00\n",
            "Epoch 46/50\n",
            "500/500 [==============================] - 0s 753us/sample - loss: 0.1099 - acc: 0.9560 - val_loss: 12.0461 - val_acc: 0.0000e+00\n",
            "Epoch 47/50\n",
            "500/500 [==============================] - 0s 723us/sample - loss: 0.1551 - acc: 0.9440 - val_loss: 12.3141 - val_acc: 0.0000e+00\n",
            "Epoch 48/50\n",
            "500/500 [==============================] - 0s 721us/sample - loss: 0.0941 - acc: 0.9700 - val_loss: 12.0325 - val_acc: 0.0000e+00\n",
            "Epoch 49/50\n",
            "500/500 [==============================] - 0s 755us/sample - loss: 0.1541 - acc: 0.9460 - val_loss: 11.9571 - val_acc: 0.0000e+00\n",
            "Epoch 50/50\n",
            "500/500 [==============================] - 0s 729us/sample - loss: 0.0944 - acc: 0.9660 - val_loss: 11.5171 - val_acc: 0.0000e+00\n"
          ],
          "name": "stdout"
        },
        {
          "output_type": "execute_result",
          "data": {
            "text/plain": [
              "<tensorflow.python.keras.callbacks.History at 0x7f0ea0d1beb8>"
            ]
          },
          "metadata": {
            "tags": []
          },
          "execution_count": 27
        }
      ]
    },
    {
      "cell_type": "code",
      "metadata": {
        "id": "VeRS6H7jalh9",
        "colab_type": "code",
        "outputId": "58af30b1-a577-4fba-8ecb-a84685084c44",
        "colab": {
          "base_uri": "https://localhost:8080/",
          "height": 35
        }
      },
      "source": [
        "scores = new_model.evaluate(testX, testY, batch_size=BS)"
      ],
      "execution_count": 0,
      "outputs": [
        {
          "output_type": "stream",
          "text": [
            "103080/103080 [==============================] - 25s 239us/sample - loss: 1.7809 - acc: 0.7058\n"
          ],
          "name": "stdout"
        }
      ]
    },
    {
      "cell_type": "markdown",
      "metadata": {
        "id": "VEwi_S7x74Vx",
        "colab_type": "text"
      },
      "source": [
        "As we can see, taking advantage from the previously trained model (for digits classification) resulted in higher accuracy result (77%) than learning all the weights from scratch on letters training dataset (71%). It is caused by the fact that given letters training (and validation) set was very small (520 examples for 26 letters, upper and lower case). On the other hand, a large test set of letters was provided. The convolutional network from model trained by learning weights from scratch did not manage to extract relevant features from data. Using the combination of already trained convolutional network (when the problem of classification is simillar) and new dense part of the network for this purpose gives us new opportunities and enables us to achieve satisfying results."
      ]
    }
  ]
}